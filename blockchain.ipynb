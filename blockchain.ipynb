{
 "cells": [
  {
   "cell_type": "code",
   "execution_count": 3,
   "id": "3778d483",
   "metadata": {},
   "outputs": [
    {
     "name": "stdout",
     "output_type": "stream",
     "text": [
      "Block #1 added to the blockchain\n",
      "Block #2 added to the blockchain\n",
      "Block #3 added to the blockchain\n",
      "Block #4 added to the blockchain\n",
      "Block #5 added to the blockchain\n",
      "Block #0 | Hash: bd9fe05faba434dca0bc53ea1e69e5f02414bb4ea897949a8d6c53eaf0f396cc | Previous Hash: 0 | Timestamp: 1691997751 | Data: Genesis Block\n",
      "Block #1 | Hash: de0826d07e9ebbfb57c71f4cbeb5329bc9113cea5d8e51e85e88ec8ed2af5f2d | Previous Hash: bd9fe05faba434dca0bc53ea1e69e5f02414bb4ea897949a8d6c53eaf0f396cc | Timestamp: 1691997751 | Data: {'product': 'Product 1', 'manufacturer': 'Manufacturer ABC', 'timestamp': 1691997751}\n",
      "Block #2 | Hash: d62b98a6d03735c5d109de02f461252ee6115ddd1d8604598bfcfc7e087cd959 | Previous Hash: de0826d07e9ebbfb57c71f4cbeb5329bc9113cea5d8e51e85e88ec8ed2af5f2d | Timestamp: 1691997751 | Data: {'product': 'Product 2', 'manufacturer': 'Manufacturer ABC', 'timestamp': 1691997751}\n",
      "Block #3 | Hash: 4eac6060b27045c507d0a4ea929e38b14759f515bca4f5757cd42f74eff60b97 | Previous Hash: d62b98a6d03735c5d109de02f461252ee6115ddd1d8604598bfcfc7e087cd959 | Timestamp: 1691997751 | Data: {'product': 'Product 3', 'manufacturer': 'Manufacturer ABC', 'timestamp': 1691997751}\n",
      "Block #4 | Hash: d4e9802139daf726b27a14b4ccc46545decdbfa826b23ba16fad9546519b3a19 | Previous Hash: 4eac6060b27045c507d0a4ea929e38b14759f515bca4f5757cd42f74eff60b97 | Timestamp: 1691997751 | Data: {'product': 'Product 4', 'manufacturer': 'Manufacturer ABC', 'timestamp': 1691997751}\n",
      "Block #5 | Hash: 8a4017c7a470f168ec638b122d314ce962dca5840e645e7d47ce4bbd37badcd8 | Previous Hash: d4e9802139daf726b27a14b4ccc46545decdbfa826b23ba16fad9546519b3a19 | Timestamp: 1691997751 | Data: {'product': 'Product 5', 'manufacturer': 'Manufacturer ABC', 'timestamp': 1691997751}\n"
     ]
    }
   ],
   "source": [
    "import hashlib\n",
    "import time\n",
    "\n",
    "class Block:\n",
    "    def __init__(self, index, previous_hash, timestamp, data, hash):\n",
    "        self.index = index\n",
    "        self.previous_hash = previous_hash\n",
    "        self.timestamp = timestamp\n",
    "        self.data = data\n",
    "        self.hash = hash\n",
    "\n",
    "def calculate_hash(index, previous_hash, timestamp, data):\n",
    "    value = str(index) + str(previous_hash) + str(timestamp) + str(data)\n",
    "    return hashlib.sha256(value.encode('utf-8')).hexdigest()\n",
    "\n",
    "def create_genesis_block():\n",
    "    return Block(0, \"0\", int(time.time()), \"Genesis Block\", calculate_hash(0, \"0\", int(time.time()), \"Genesis Block\"))\n",
    "\n",
    "def create_new_block(previous_block, data):\n",
    "    index = previous_block.index + 1\n",
    "    timestamp = int(time.time())\n",
    "    hash = calculate_hash(index, previous_block.hash, timestamp, data)\n",
    "    return Block(index, previous_block.hash, timestamp, data, hash)\n",
    "\n",
    "# Creating the blockchain\n",
    "blockchain = [create_genesis_block()]\n",
    "previous_block = blockchain[0]\n",
    "\n",
    "# Simulating adding blocks to the blockchain\n",
    "for i in range(1, 6):\n",
    "    data = {\n",
    "        \"product\": f\"Product {i}\",\n",
    "        \"manufacturer\": \"Manufacturer ABC\",\n",
    "        \"timestamp\": int(time.time())\n",
    "    }\n",
    "    new_block = create_new_block(previous_block, data)\n",
    "    blockchain.append(new_block)\n",
    "    previous_block = new_block\n",
    "    print(f\"Block #{new_block.index} added to the blockchain\")\n",
    "\n",
    "# Printing the blockchain\n",
    "for block in blockchain:\n",
    "    print(f\"Block #{block.index} | Hash: {block.hash} | Previous Hash: {block.previous_hash} | Timestamp: {block.timestamp} | Data: {block.data}\")\n"
   ]
  },
  {
   "cell_type": "code",
   "execution_count": null,
   "id": "0c97a16f",
   "metadata": {},
   "outputs": [],
   "source": []
  }
 ],
 "metadata": {
  "kernelspec": {
   "display_name": "Python 3 (ipykernel)",
   "language": "python",
   "name": "python3"
  },
  "language_info": {
   "codemirror_mode": {
    "name": "ipython",
    "version": 3
   },
   "file_extension": ".py",
   "mimetype": "text/x-python",
   "name": "python",
   "nbconvert_exporter": "python",
   "pygments_lexer": "ipython3",
   "version": "3.11.3"
  }
 },
 "nbformat": 4,
 "nbformat_minor": 5
}
